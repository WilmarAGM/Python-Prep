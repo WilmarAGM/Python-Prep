{
 "cells": [
  {
   "attachments": {},
   "cell_type": "markdown",
   "metadata": {},
   "source": [
    "## Funciones"
   ]
  },
  {
   "attachments": {},
   "cell_type": "markdown",
   "metadata": {},
   "source": [
    "1) Crear una función que reciba un número como parámetro y devuelva True si es primo y False si no lo es"
   ]
  },
  {
   "cell_type": "code",
   "execution_count": 8,
   "metadata": {},
   "outputs": [
    {
     "data": {
      "text/plain": [
       "False"
      ]
     },
     "execution_count": 8,
     "metadata": {},
     "output_type": "execute_result"
    }
   ],
   "source": [
    "def primo(num):\n",
    "    c = True\n",
    "    for i in range(2, num//2+1):\n",
    "        if num%i==0:\n",
    "            c = False\n",
    "            break\n",
    "    return c"
   ]
  },
  {
   "attachments": {},
   "cell_type": "markdown",
   "metadata": {},
   "source": [
    "2) Utilizando la función del punto 1, realizar otra función que reciba de parámetro una lista de números y devuelva sólo aquellos que son primos en otra lista"
   ]
  },
  {
   "cell_type": "code",
   "execution_count": 10,
   "metadata": {},
   "outputs": [
    {
     "data": {
      "text/plain": [
       "[1, 2, 3, 5, 7]"
      ]
     },
     "execution_count": 10,
     "metadata": {},
     "output_type": "execute_result"
    }
   ],
   "source": [
    "x = [1,2,3,4,5,6,7,8]\n",
    "def list_primos(lista):\n",
    "    L = []\n",
    "    for i in range(len(lista)):\n",
    "        if primo(lista[i]):\n",
    "            L.append(lista[i])\n",
    "    return L\n",
    "\n",
    "list_primos(x)\n"
   ]
  },
  {
   "attachments": {},
   "cell_type": "markdown",
   "metadata": {},
   "source": [
    "3) Crear una función que al recibir una lista de números, devuelva el que más se repite y cuántas veces lo hace. Si hay más de un \"más repetido\", que devuelva cualquiera"
   ]
  },
  {
   "cell_type": "code",
   "execution_count": 16,
   "metadata": {},
   "outputs": [
    {
     "data": {
      "text/plain": [
       "(5, 3)"
      ]
     },
     "execution_count": 16,
     "metadata": {},
     "output_type": "execute_result"
    }
   ],
   "source": [
    "y = [1,1,5,6,8,10,22,5,6,4,11,9,5]\n",
    "\n",
    "def el_mas_repetido(lista):\n",
    "    L = []\n",
    "    lnr = list(set(lista))\n",
    "    for i in lnr:\n",
    "        L.append(lista.count(i))\n",
    "    return lnr[L.index(max(L))], max(L)\n",
    "el_mas_repetido(y)"
   ]
  },
  {
   "attachments": {},
   "cell_type": "markdown",
   "metadata": {},
   "source": [
    "4) Crear una función que convierta entre grados Celsius, Farenheit y Kelvin<br>\n",
    "Fórmula 1\t: (°C × 9/5) + 32 = °F<br>\n",
    "Fórmula 2\t: °C + 273.15 = °K<br>\n",
    "Debe recibir 3 parámetros: el valor, la medida de orígen y la medida de destino\n"
   ]
  },
  {
   "cell_type": "code",
   "execution_count": 20,
   "metadata": {},
   "outputs": [],
   "source": [
    "def Temperatura(valor, partida, llegada):\n",
    "    if partida == llegada:\n",
    "        return str(valor) + ' ' + partida + ' ' + 'en' + ' ' + llegada + ' ' + 'son: ' + str(valor)\n",
    "    else:\n",
    "        if partida=='C' and llegada=='F':\n",
    "            return str(valor) + ' ' + partida + ' ' + 'en' + ' ' + llegada + ' ' + 'son: '  + str(valor*9/5 + 32)\n",
    "        elif partida == 'C' and llegada == 'K':\n",
    "            return str(valor) + ' ' + partida + ' ' + 'en' + ' ' + llegada + ' ' + 'son: '  + str(valor + 273.15)\n",
    "        elif partida == 'F' and llegada == 'C':\n",
    "            return str(valor) + ' ' + partida + ' ' + 'en' + ' ' + llegada + ' ' + 'son: ' + str( (valor-32)*5/9)\n",
    "        elif partida == 'F' and llegada == 'K':\n",
    "            return str(valor) + ' ' + partida + ' ' + 'en' + ' ' + llegada + ' ' + 'son: ' + str((valor-32)*5/9 +273.15)\n",
    "        elif partida == 'K' and llegada == 'C':\n",
    "            return str(valor) + ' ' + partida + ' ' + 'en' + ' ' + llegada + ' ' + 'son: '  + str(valor-273.15)\n",
    "        else:\n",
    "            return str(valor) + ' ' + partida + ' ' + 'en' + ' ' + llegada + ' ' + 'son: ' + str(9*(valor-273.15)/5 + 32)\n"
   ]
  },
  {
   "cell_type": "code",
   "execution_count": 22,
   "metadata": {},
   "outputs": [
    {
     "data": {
      "text/plain": [
       "'1 K en F son: -457.87'"
      ]
     },
     "execution_count": 22,
     "metadata": {},
     "output_type": "execute_result"
    }
   ],
   "source": [
    "Temperatura(1, 'K', 'F')"
   ]
  },
  {
   "attachments": {},
   "cell_type": "markdown",
   "metadata": {},
   "source": [
    "5) Iterando una lista con los tres valores posibles de temperatura que recibe la función del punto 5, hacer un print para cada combinación de los mismos:"
   ]
  },
  {
   "cell_type": "code",
   "execution_count": 24,
   "metadata": {},
   "outputs": [
    {
     "name": "stdout",
     "output_type": "stream",
     "text": [
      "1 C en F son: 33.8\n",
      "1 C en K son: 274.15\n",
      "1 F en C son: -17.22222222222222\n",
      "1 F en K son: 255.92777777777775\n",
      "1 K en C son: -272.15\n",
      "1 K en F son: -457.87\n"
     ]
    }
   ],
   "source": [
    "P = ['C', 'F', 'K']\n",
    "valor = 1\n",
    "for i in P:\n",
    "    L = P.copy()\n",
    "    L.remove(i)\n",
    "    for j in L:\n",
    "        print(Temperatura(valor,i,j))"
   ]
  },
  {
   "attachments": {},
   "cell_type": "markdown",
   "metadata": {},
   "source": [
    "6) Armar una función que devuelva el factorial de un número. Tener en cuenta que el usuario puede equivocarse y enviar de parámetro un número no entero o negativo"
   ]
  },
  {
   "cell_type": "code",
   "execution_count": 1,
   "metadata": {},
   "outputs": [],
   "source": [
    "def factorial(num):\n",
    "    if type(num) is not int:\n",
    "        return 'Se espera un número entero'\n",
    "    elif num<0:\n",
    "        return 'Se espera un número positivo'\n",
    "    else:\n",
    "        if num>1:\n",
    "            num = num*factorial(num-1)\n",
    "        return num\n",
    "\n",
    "            "
   ]
  }
 ],
 "metadata": {
  "interpreter": {
   "hash": "c85384e4cb51c8b72350f3a8712cc8351fdc3955e32a27f9b60c6242ab125f01"
  },
  "kernelspec": {
   "display_name": "Python 3 (ipykernel)",
   "language": "python",
   "name": "python3"
  },
  "language_info": {
   "codemirror_mode": {
    "name": "ipython",
    "version": 3
   },
   "file_extension": ".py",
   "mimetype": "text/x-python",
   "name": "python",
   "nbconvert_exporter": "python",
   "pygments_lexer": "ipython3",
   "version": "3.11.7"
  }
 },
 "nbformat": 4,
 "nbformat_minor": 4
}
