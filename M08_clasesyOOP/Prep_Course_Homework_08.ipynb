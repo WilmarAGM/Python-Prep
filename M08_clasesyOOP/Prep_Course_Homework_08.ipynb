{
 "cells": [
  {
   "attachments": {},
   "cell_type": "markdown",
   "metadata": {},
   "source": [
    "## Clases y Programación Orientada a Objetos"
   ]
  },
  {
   "attachments": {},
   "cell_type": "markdown",
   "metadata": {},
   "source": [
    "1) Crear la clase vehículo que contenga los atributos:<br>\n",
    "Color<br>\n",
    "Si es moto, auto, camioneta ó camión<br>\n",
    "Cilindrada del motor"
   ]
  },
  {
   "cell_type": "code",
   "execution_count": 1,
   "metadata": {},
   "outputs": [],
   "source": [
    "class Vehiculo:\n",
    "    def __init__(self, color, tipo, cilindraje):\n",
    "        self.color = color\n",
    "        self.tipo = tipo\n",
    "        self.cilindraje = cilindraje"
   ]
  },
  {
   "attachments": {},
   "cell_type": "markdown",
   "metadata": {},
   "source": [
    "2) A la clase Vehiculo creada en el punto 1, agregar los siguientes métodos:<br>\n",
    "Acelerar<br>\n",
    "Frenar<br>\n",
    "Doblar<br>"
   ]
  },
  {
   "cell_type": "code",
   "execution_count": 3,
   "metadata": {},
   "outputs": [],
   "source": [
    "class Vehiculo:\n",
    "    def __init__(self, color, tipo, cilindraje):\n",
    "        self.color = color\n",
    "        self.tipo = tipo\n",
    "        self.cilindraje = cilindraje\n",
    "        self.velocidad = 0\n",
    "        self.direccion = 0\n",
    "    def Acelerar(self,vel):\n",
    "        self.velocidad += vel\n",
    "    def Frenar(self, vel):\n",
    "        self.velocidad -= vel\n",
    "    def Doblar(self,dir):\n",
    "        self.direccion += dir\n"
   ]
  },
  {
   "attachments": {},
   "cell_type": "markdown",
   "metadata": {},
   "source": [
    "3) Instanciar 3 objetos de la clase vehículo y ejecutar sus métodos, probar luego el resultado"
   ]
  },
  {
   "cell_type": "code",
   "execution_count": 4,
   "metadata": {},
   "outputs": [],
   "source": [
    "v1 = Vehiculo('Rojo', 'RX', 115)\n",
    "v2 = Vehiculo('Negro', 'Camioneta', 2200)\n",
    "v3 = Vehiculo('Blanco', 'Logan', 1600)"
   ]
  },
  {
   "cell_type": "code",
   "execution_count": 5,
   "metadata": {},
   "outputs": [],
   "source": [
    "v1.Acelerar(10)\n",
    "v2.Acelerar(60)\n",
    "v3.Acelerar(80)\n",
    "\n",
    "v2.Frenar(10)\n",
    "v3.Frenar(30)\n",
    "\n",
    "v1.Doblar(30)\n",
    "v2.Doblar(-10)"
   ]
  },
  {
   "attachments": {},
   "cell_type": "markdown",
   "metadata": {},
   "source": [
    "4) Agregar a la clase Vehiculo, un método que muestre su estado, es decir, a que velocidad se encuentra y su dirección. Y otro método que muestre color, tipo y cilindrada"
   ]
  },
  {
   "cell_type": "code",
   "execution_count": 7,
   "metadata": {},
   "outputs": [
    {
     "name": "stdout",
     "output_type": "stream",
     "text": [
      "La velocidad del vehículo es: 10 y su dirección es 30\n",
      "El vehículo es de color Rojo de tipo RX y tiene un cilindraje de 115\n"
     ]
    }
   ],
   "source": [
    "class Vehiculo:\n",
    "    def __init__(self, color, tipo, cilindraje):\n",
    "        self.color = color\n",
    "        self.tipo = tipo\n",
    "        self.cilindraje = cilindraje\n",
    "        self.velocidad = 0\n",
    "        self.direccion = 0\n",
    "    def Acelerar(self,vel):\n",
    "        self.velocidad += vel\n",
    "    def Frenar(self, vel):\n",
    "        self.velocidad -= vel\n",
    "    def Doblar(self,dir):\n",
    "        self.direccion += dir\n",
    "    def Estado(self):\n",
    "        print('La velocidad del vehículo es: {} y su dirección es {}'. format(self.velocidad, self.direccion))\n",
    "    def Descripcion(self):\n",
    "        print('El vehículo es de color {} de tipo {} y tiene un cilindraje de {}'.format(self.color, self.tipo, self.cilindraje))\n",
    "\n",
    "v1.Estado()\n",
    "v1.Descripcion()"
   ]
  },
  {
   "attachments": {},
   "cell_type": "markdown",
   "metadata": {},
   "source": [
    "5) Crear una clase que permita utilizar las funciones creadas en la práctica del módulo 7<br>\n",
    "Verificar Primo<br>\n",
    "Valor modal<br>\n",
    "Conversión grados<br>\n",
    "Factorial<br>"
   ]
  },
  {
   "cell_type": "code",
   "execution_count": 13,
   "metadata": {},
   "outputs": [],
   "source": [
    "class Herramientas:\n",
    "    def __init__(self)->None:\n",
    "        pass\n",
    "    def primo(self, num):\n",
    "        c = True\n",
    "        for i in range(2, num//2+1):\n",
    "            if num%i==0:\n",
    "                c = False\n",
    "                break\n",
    "        return c\n",
    "    def el_mas_repetido(self, lista):\n",
    "        L = []\n",
    "        lnr = list(set(lista))\n",
    "        for i in lnr:\n",
    "            L.append(lista.count(i))\n",
    "        return lnr[L.index(max(L))], max(L)\n",
    "    def Temperatura(self, valor, partida, llegada):\n",
    "        if partida == llegada:\n",
    "            return str(valor) + ' ' + partida + ' ' + 'en' + ' ' + llegada + ' ' + 'son: ' + str(valor)\n",
    "        else:\n",
    "            if partida=='C' and llegada=='F':\n",
    "                return str(valor) + ' ' + partida + ' ' + 'en' + ' ' + llegada + ' ' + 'son: '  + str(valor*9/5 + 32)\n",
    "            elif partida == 'C' and llegada == 'K':\n",
    "                return str(valor) + ' ' + partida + ' ' + 'en' + ' ' + llegada + ' ' + 'son: '  + str(valor + 273.15)\n",
    "            elif partida == 'F' and llegada == 'C':\n",
    "                return str(valor) + ' ' + partida + ' ' + 'en' + ' ' + llegada + ' ' + 'son: ' + str( (valor-32)*5/9)\n",
    "            elif partida == 'F' and llegada == 'K':\n",
    "                return str(valor) + ' ' + partida + ' ' + 'en' + ' ' + llegada + ' ' + 'son: ' + str((valor-32)*5/9 +273.15)\n",
    "            elif partida == 'K' and llegada == 'C':\n",
    "                return str(valor) + ' ' + partida + ' ' + 'en' + ' ' + llegada + ' ' + 'son: '  + str(valor-273.15)\n",
    "            else:\n",
    "                return str(valor) + ' ' + partida + ' ' + 'en' + ' ' + llegada + ' ' + 'son: ' + str(9*(valor-273.15)/5 + 32)\n",
    "    def factorial(self, num):\n",
    "        if type(num) is not int:\n",
    "            return 'Se espera un número entero'\n",
    "        elif num<0:\n",
    "            return 'Se espera un número positivo'\n",
    "        else:\n",
    "            if num>1:\n",
    "                num = num*self.factorial(num-1)\n",
    "            return num\n"
   ]
  },
  {
   "cell_type": "code",
   "execution_count": 14,
   "metadata": {},
   "outputs": [],
   "source": [
    "H = Herramientas()"
   ]
  },
  {
   "attachments": {},
   "cell_type": "markdown",
   "metadata": {},
   "source": [
    "6) Probar las funciones incorporadas en la clase del punto 5"
   ]
  },
  {
   "cell_type": "code",
   "execution_count": 15,
   "metadata": {},
   "outputs": [
    {
     "name": "stdout",
     "output_type": "stream",
     "text": [
      "True\n",
      "(5, 3)\n",
      "30 C en F son: 86.0\n",
      "120\n"
     ]
    }
   ],
   "source": [
    "print(H.primo(7))\n",
    "print(H.el_mas_repetido([1,1,5,6,8,10,22,5,6,4,11,9,5]))\n",
    "print(H.Temperatura(30,'C','F'))\n",
    "print(H.factorial(5))"
   ]
  },
  {
   "attachments": {},
   "cell_type": "markdown",
   "metadata": {},
   "source": [
    "7) Es necesario que la clase creada en el punto 5 contenga una lista, sobre la cual se apliquen las funciones incorporadas"
   ]
  },
  {
   "cell_type": "code",
   "execution_count": 32,
   "metadata": {},
   "outputs": [],
   "source": [
    "class Herramientas:\n",
    "    def __init__(self,lista_in):\n",
    "        self.lista_in = lista_in\n",
    "    def primo(self):\n",
    "        for i in (self.lista_in):\n",
    "            if self.__primo(i):\n",
    "                print('El número {} es primo'.format(i))\n",
    "            else:\n",
    "                print('El número {} no es primo'.format(i))\n",
    "    def Temperatura(self,partida,llegada):\n",
    "        for i in self.lista_in:\n",
    "            print(self.__Temperatura(i,partida,llegada))\n",
    "    \n",
    "    def factorial(self):\n",
    "        for i in self.lista_in:\n",
    "            print('El facotorial de {} es: {}'.format(i, self.__factorial(i)))\n",
    "\n",
    "    def __primo(self, num):\n",
    "        c = True\n",
    "        for i in range(2, num//2+1):\n",
    "            if num%i==0:\n",
    "                c = False\n",
    "                break\n",
    "        return c\n",
    "    def el_mas_repetido(self):\n",
    "        L = []\n",
    "        lnr = list(set(self.lista_in))\n",
    "        for i in lnr:\n",
    "            L.append(self.lista_in.count(i))\n",
    "        return lnr[L.index(max(L))], max(L)\n",
    "    \n",
    "    def __Temperatura(self, valor, partida, llegada):\n",
    "        if partida == llegada:\n",
    "            return str(valor) + ' ' + partida + ' ' + 'en' + ' ' + llegada + ' ' + 'son: ' + str(valor)\n",
    "        else:\n",
    "            if partida=='C' and llegada=='F':\n",
    "                return str(valor) + ' ' + partida + ' ' + 'en' + ' ' + llegada + ' ' + 'son: '  + str(valor*9/5 + 32)\n",
    "            elif partida == 'C' and llegada == 'K':\n",
    "                return str(valor) + ' ' + partida + ' ' + 'en' + ' ' + llegada + ' ' + 'son: '  + str(valor + 273.15)\n",
    "            elif partida == 'F' and llegada == 'C':\n",
    "                return str(valor) + ' ' + partida + ' ' + 'en' + ' ' + llegada + ' ' + 'son: ' + str( (valor-32)*5/9)\n",
    "            elif partida == 'F' and llegada == 'K':\n",
    "                return str(valor) + ' ' + partida + ' ' + 'en' + ' ' + llegada + ' ' + 'son: ' + str((valor-32)*5/9 +273.15)\n",
    "            elif partida == 'K' and llegada == 'C':\n",
    "                return str(valor) + ' ' + partida + ' ' + 'en' + ' ' + llegada + ' ' + 'son: '  + str(valor-273.15)\n",
    "            else:\n",
    "                return str(valor) + ' ' + partida + ' ' + 'en' + ' ' + llegada + ' ' + 'son: ' + str(9*(valor-273.15)/5 + 32)\n",
    "    def __factorial(self, num):\n",
    "        if type(num) is not int:\n",
    "            return 'Se espera un número entero'\n",
    "        elif num<0:\n",
    "            return 'Se espera un número positivo'\n",
    "        else:\n",
    "            if num>1:\n",
    "                num = num*self.__factorial(num-1)\n",
    "            return num\n"
   ]
  },
  {
   "cell_type": "code",
   "execution_count": 34,
   "metadata": {},
   "outputs": [
    {
     "data": {
      "text/plain": [
       "(1, 2)"
      ]
     },
     "execution_count": 34,
     "metadata": {},
     "output_type": "execute_result"
    }
   ],
   "source": [
    "H = Herramientas([1,1,3,4,5])\n",
    "H.el_mas_repetido()"
   ]
  },
  {
   "attachments": {},
   "cell_type": "markdown",
   "metadata": {},
   "source": [
    "8) Crear un archivo .py aparte y ubicar allí la clase generada en el punto anterior. Luego realizar la importación del módulo y probar alguna de sus funciones"
   ]
  },
  {
   "cell_type": "code",
   "execution_count": 37,
   "metadata": {},
   "outputs": [
    {
     "name": "stdout",
     "output_type": "stream",
     "text": [
      "El número 2 es primo\n",
      "El número 3 es primo\n",
      "El número 5 es primo\n",
      "El número 5 es primo\n",
      "El número 6 no es primo\n",
      "El número 5 es primo\n",
      "El número 10 no es primo\n"
     ]
    }
   ],
   "source": [
    "from Herramientas_08 import Herramientas as H\n",
    "h1 = H([2,3,5,5,6,5,10])\n",
    "h1.primo()"
   ]
  }
 ],
 "metadata": {
  "interpreter": {
   "hash": "c85384e4cb51c8b72350f3a8712cc8351fdc3955e32a27f9b60c6242ab125f01"
  },
  "kernelspec": {
   "display_name": "Python 3 (ipykernel)",
   "language": "python",
   "name": "python3"
  },
  "language_info": {
   "codemirror_mode": {
    "name": "ipython",
    "version": 3
   },
   "file_extension": ".py",
   "mimetype": "text/x-python",
   "name": "python",
   "nbconvert_exporter": "python",
   "pygments_lexer": "ipython3",
   "version": "3.11.7"
  }
 },
 "nbformat": 4,
 "nbformat_minor": 4
}
