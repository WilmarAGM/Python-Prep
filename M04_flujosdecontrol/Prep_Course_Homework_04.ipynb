{
 "cells": [
  {
   "attachments": {},
   "cell_type": "markdown",
   "metadata": {},
   "source": [
    "## Flujos de Control"
   ]
  },
  {
   "attachments": {},
   "cell_type": "markdown",
   "metadata": {},
   "source": [
    "1) Crear una variable que contenga un elemento del conjunto de números enteros y luego imprimir por pantalla si es mayor o menor a cero"
   ]
  },
  {
   "cell_type": "code",
   "execution_count": 2,
   "metadata": {},
   "outputs": [
    {
     "name": "stdout",
     "output_type": "stream",
     "text": [
      "Mayor a cero\n"
     ]
    }
   ],
   "source": [
    "x = 5\n",
    "if x>0:\n",
    "    print('Mayor a cero')\n",
    "else:\n",
    "    print('Menor a cero')"
   ]
  },
  {
   "attachments": {},
   "cell_type": "markdown",
   "metadata": {},
   "source": [
    "2) Crear dos variables y un condicional que informe si son del mismo tipo de dato"
   ]
  },
  {
   "cell_type": "code",
   "execution_count": 3,
   "metadata": {},
   "outputs": [
    {
     "name": "stdout",
     "output_type": "stream",
     "text": [
      "No son del mismo tipo\n"
     ]
    }
   ],
   "source": [
    "x = 1\n",
    "y = 'Hola'\n",
    "if type(x) == type(y):\n",
    "    print('Son el mismo tipo')\n",
    "else:\n",
    "    print('No son del mismo tipo')"
   ]
  },
  {
   "attachments": {},
   "cell_type": "markdown",
   "metadata": {},
   "source": [
    "3) Para los valores enteros del 1 al 20, imprimir por pantalla si es par o impar"
   ]
  },
  {
   "cell_type": "code",
   "execution_count": 4,
   "metadata": {},
   "outputs": [
    {
     "name": "stdout",
     "output_type": "stream",
     "text": [
      "El número 1 es impar\n",
      "El número 2 es par\n",
      "El número 3 es impar\n",
      "El número 4 es par\n",
      "El número 5 es impar\n",
      "El número 6 es par\n",
      "El número 7 es impar\n",
      "El número 8 es par\n",
      "El número 9 es impar\n",
      "El número 10 es par\n",
      "El número 11 es impar\n",
      "El número 12 es par\n",
      "El número 13 es impar\n",
      "El número 14 es par\n",
      "El número 15 es impar\n",
      "El número 16 es par\n",
      "El número 17 es impar\n",
      "El número 18 es par\n",
      "El número 19 es impar\n",
      "El número 20 es par\n"
     ]
    }
   ],
   "source": [
    "for i in range(20):\n",
    "    if (i+1)%2 == 0: \n",
    "        print('El número {} es par'.format(i+1))\n",
    "    else:\n",
    "        print('El número {} es impar'.format(i+1))"
   ]
  },
  {
   "attachments": {},
   "cell_type": "markdown",
   "metadata": {},
   "source": [
    "4) En un ciclo for mostrar para los valores entre 0 y 5 el resultado de elevarlo a la potencia igual a 3"
   ]
  },
  {
   "cell_type": "code",
   "execution_count": 5,
   "metadata": {},
   "outputs": [
    {
     "name": "stdout",
     "output_type": "stream",
     "text": [
      "0\n",
      "1\n",
      "8\n",
      "27\n",
      "64\n",
      "125\n"
     ]
    }
   ],
   "source": [
    "for i in range(6):\n",
    "    print(i**3)"
   ]
  },
  {
   "attachments": {},
   "cell_type": "markdown",
   "metadata": {},
   "source": [
    "5) Crear una variable que contenga un número entero y realizar un ciclo for la misma cantidad de ciclos"
   ]
  },
  {
   "cell_type": "code",
   "execution_count": 6,
   "metadata": {},
   "outputs": [
    {
     "name": "stdout",
     "output_type": "stream",
     "text": [
      "0\n",
      "1\n",
      "2\n",
      "3\n",
      "4\n"
     ]
    }
   ],
   "source": [
    "nc = 5\n",
    "for i in range(nc):\n",
    "    print(i)"
   ]
  },
  {
   "attachments": {},
   "cell_type": "markdown",
   "metadata": {},
   "source": [
    "6) Utilizar un ciclo while para realizar el factorial de un número guardado en una variable, sólo si la variable contiene un número entero mayor a 0"
   ]
  },
  {
   "cell_type": "code",
   "execution_count": 8,
   "metadata": {},
   "outputs": [
    {
     "name": "stdout",
     "output_type": "stream",
     "text": [
      "El factorial del número es 120\n"
     ]
    }
   ],
   "source": [
    "v = 5\n",
    "if v!=0:\n",
    "    fac = v \n",
    "    while v>1:\n",
    "       v-= 1\n",
    "       fac = fac*v\n",
    "    print(f'El factorial del número es {fac}')\n",
    "else:\n",
    "    print(f'El factorial del número es {v}')"
   ]
  },
  {
   "attachments": {},
   "cell_type": "markdown",
   "metadata": {},
   "source": [
    "7) Crear un ciclo for dentro de un ciclo while"
   ]
  },
  {
   "cell_type": "code",
   "execution_count": 10,
   "metadata": {},
   "outputs": [
    {
     "name": "stdout",
     "output_type": "stream",
     "text": [
      "0\n"
     ]
    }
   ],
   "source": [
    "v1 = 1\n",
    "while v>0:\n",
    "    v -= 1\n",
    "    for i in range(v+1):\n",
    "        print(i)"
   ]
  },
  {
   "attachments": {},
   "cell_type": "markdown",
   "metadata": {},
   "source": [
    "8) Crear un ciclo while dentro de un ciclo for"
   ]
  },
  {
   "cell_type": "code",
   "execution_count": 1,
   "metadata": {},
   "outputs": [
    {
     "name": "stdout",
     "output_type": "stream",
     "text": [
      "0\n"
     ]
    }
   ],
   "source": [
    "for i in range(1):\n",
    "    j = i\n",
    "    while j>=0:\n",
    "        j -=1\n",
    "        print(i)"
   ]
  },
  {
   "attachments": {},
   "cell_type": "markdown",
   "metadata": {},
   "source": [
    "9) Imprimir los números primos existentes entre 0 y 30"
   ]
  },
  {
   "cell_type": "code",
   "execution_count": 2,
   "metadata": {},
   "outputs": [
    {
     "name": "stdout",
     "output_type": "stream",
     "text": [
      "1\n",
      "2\n",
      "3\n",
      "5\n",
      "7\n",
      "11\n",
      "13\n",
      "17\n",
      "19\n",
      "23\n",
      "29\n"
     ]
    }
   ],
   "source": [
    "for i in range(31):\n",
    "    if i == 0:\n",
    "        continue\n",
    "    if i == 1:\n",
    "        print(i)\n",
    "    c =  0\n",
    "    for j in range(1, i+1):\n",
    "        if i%j == 0:\n",
    "            c+=1\n",
    "    if c == 2:\n",
    "        print(i)\n",
    "        \n",
    "\n"
   ]
  },
  {
   "attachments": {},
   "cell_type": "markdown",
   "metadata": {},
   "source": [
    "10) ¿Se puede mejorar el proceso del punto 9? Utilizar las sentencias break y/ó continue para tal fin"
   ]
  },
  {
   "cell_type": "code",
   "execution_count": null,
   "metadata": {},
   "outputs": [],
   "source": []
  },
  {
   "attachments": {},
   "cell_type": "markdown",
   "metadata": {},
   "source": [
    "11) En los puntos 9 y 10, se diseño un código que encuentra números primos y además se lo optimizó. ¿Es posible saber en qué medida se optimizó?"
   ]
  },
  {
   "cell_type": "code",
   "execution_count": null,
   "metadata": {},
   "outputs": [],
   "source": []
  },
  {
   "attachments": {},
   "cell_type": "markdown",
   "metadata": {},
   "source": [
    "12) Aplicando continue, armar un ciclo while que solo imprima los valores divisibles por 12, dentro del rango de números de 100 a 300"
   ]
  },
  {
   "cell_type": "code",
   "execution_count": 3,
   "metadata": {},
   "outputs": [
    {
     "name": "stdout",
     "output_type": "stream",
     "text": [
      "El número 108 es divisible por 12\n",
      "El número 120 es divisible por 12\n",
      "El número 132 es divisible por 12\n",
      "El número 144 es divisible por 12\n",
      "El número 156 es divisible por 12\n",
      "El número 168 es divisible por 12\n",
      "El número 180 es divisible por 12\n",
      "El número 192 es divisible por 12\n",
      "El número 204 es divisible por 12\n",
      "El número 216 es divisible por 12\n",
      "El número 228 es divisible por 12\n",
      "El número 240 es divisible por 12\n",
      "El número 252 es divisible por 12\n",
      "El número 264 es divisible por 12\n",
      "El número 276 es divisible por 12\n",
      "El número 288 es divisible por 12\n",
      "El número 300 es divisible por 12\n"
     ]
    }
   ],
   "source": [
    "n = 100\n",
    "while n<=300:\n",
    "    if n%12!=0:\n",
    "        n+=1\n",
    "        continue\n",
    "    else:\n",
    "        print('El número {} es divisible por 12'.format(n))\n",
    "        n += 1"
   ]
  },
  {
   "attachments": {},
   "cell_type": "markdown",
   "metadata": {},
   "source": [
    "13) Utilizar la función **input()** que permite hacer ingresos por teclado, para encontrar números primos y dar la opción al usario de buscar el siguiente"
   ]
  },
  {
   "cell_type": "code",
   "execution_count": 25,
   "metadata": {},
   "outputs": [
    {
     "name": "stdout",
     "output_type": "stream",
     "text": [
      "El primo más cercano por arriba es 29\n",
      "El primo más cercano por arriba es 31\n",
      "El primo más cercano por arriba es 37\n",
      "El primo más cercano por arriba es 41\n",
      "El primo más cercano por arriba es 43\n",
      "El primo más cercano por arriba es 47\n",
      "Se cierra el programa\n"
     ]
    }
   ],
   "source": [
    "a = int(input('Ingrese un número entero'))\n",
    "c = 1\n",
    "b = a\n",
    "while True:\n",
    "    for i in range(2, b//2+1):\n",
    "        if b%i==0:\n",
    "            c = 0\n",
    "            break\n",
    "    if c==1:\n",
    "        print(f'El primo más cercano por arriba es {b}')\n",
    "        P = int(input('Desea conocer el primo sguiente?'))\n",
    "        if P == 1:\n",
    "            b+=1\n",
    "        else:\n",
    "            print('Se cierra el programa')\n",
    "            break\n",
    "    else:\n",
    "        c = 1\n",
    "    b+=1\n",
    "\n"
   ]
  },
  {
   "attachments": {},
   "cell_type": "markdown",
   "metadata": {},
   "source": [
    "14) Crear un ciclo while que encuentre dentro del rango de 100 a 300 el primer número divisible por 3 y además múltiplo de 6"
   ]
  },
  {
   "cell_type": "code",
   "execution_count": 23,
   "metadata": {},
   "outputs": [
    {
     "name": "stdout",
     "output_type": "stream",
     "text": [
      "El primer número es 102\n"
     ]
    }
   ],
   "source": [
    "n = 99\n",
    "while n<=300:\n",
    "    n+=1\n",
    "    if n%6!=0:\n",
    "        continue\n",
    "    else:\n",
    "        print(f'El primer número es {n}')\n",
    "        break"
   ]
  }
 ],
 "metadata": {
  "interpreter": {
   "hash": "c85384e4cb51c8b72350f3a8712cc8351fdc3955e32a27f9b60c6242ab125f01"
  },
  "kernelspec": {
   "display_name": "Python 3 (ipykernel)",
   "language": "python",
   "name": "python3"
  },
  "language_info": {
   "codemirror_mode": {
    "name": "ipython",
    "version": 3
   },
   "file_extension": ".py",
   "mimetype": "text/x-python",
   "name": "python",
   "nbconvert_exporter": "python",
   "pygments_lexer": "ipython3",
   "version": "3.11.7"
  }
 },
 "nbformat": 4,
 "nbformat_minor": 4
}
